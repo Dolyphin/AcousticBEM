{
 "cells": [
  {
   "cell_type": "code",
   "execution_count": null,
   "metadata": {
    "collapsed": false
   },
   "outputs": [],
   "source": [
    "import sys\n",
    "sys.path.append('/home/fjargsto/AcousticBEM/Python')\n",
    "\n",
    "%matplotlib inline\n",
    "import matplotlib.pyplot as plt\n",
    "import matplotlib.image as mpimg\n",
    "from matplotlib.animation import FuncAnimation\n",
    "from IPython.display import HTML\n",
    "\n",
    "from InteriorHelmholtzSolverRAD_C import *\n",
    "\n",
    "class ImpedanceTube(object):\n",
    "    def __init__(self, length = 1.0, radius = 0.1, elements_l = 100, elements_r = 10,\n",
    "                impedance = 0.0 + 0.0j, velocityAmplitude = 1.0):\n",
    "        nElements = elements_l + 2 * elements_r\n",
    "        # key simulation parameters\n",
    "        self.density   = 1.205 # density of air [kg/m^3]\n",
    "        self.velocity  = 344.0 # speed of sound in air [m/s]\n",
    "        self.frequency = 1000  # 1000 Hz \n",
    "        \n",
    "        self.impedance = impedance\n",
    "        self.velocityAmplitude = velocityAmplitude\n",
    "\n",
    "        # key boundary parameters\n",
    "        self.length = length\n",
    "        self.radius = radius\n",
    "        self.elements_l = elements_l\n",
    "        self.elements_r = elements_r\n",
    "\n",
    "        # implementation specific parameters\n",
    "        self.bUseOptimized = True\n",
    "\n",
    "        # creation of boundary discretization\n",
    "        self.aVertex, self.aEdge = self.Cylinder(length, radius, elements_l, elements_r)\n",
    "        self.boundaryCondition = BoundaryCondition(nElements)\n",
    "        self.boundaryCondition.alpha.fill(0.0)\n",
    "        self.boundaryCondition.beta.fill(1.0)\n",
    "        self.boundaryCondition.f.fill(0.0)\n",
    "        self.boundaryCondition.f[-elements_r:] = self.velocityAmplitude\n",
    "        self.boundaryCondition.f[:elements_r] = 0.0\n",
    "        self.boundaryCondition.alpha[:elements_r] = 1.0\n",
    "        self.boundaryCondition.beta[:elements_r] = self.impedance\n",
    "        \n",
    "        # definition of incident fields on boundary\n",
    "        self.boundaryIncidence = BoundaryIncidence(nElements)\n",
    "        self.boundaryIncidence.phi.fill(0.0) # no incoming velocity potential on boundary                                              \n",
    "        self.boundaryIncidence.v.fill(0.0)   # no incoming velocity on boundary                                                        \n",
    "\n",
    "        # description of the interior field solution being sought\n",
    "        delta = length / elements_l\n",
    "        self.aInteriorPoints = np.zeros((2 * elements_l - 1, 2), dtype=np.float32)\n",
    "        self.aInteriorPoints[:, 1] = np.linspace(delta/2, length - delta/2, 2 * elements_l - 1, True)\n",
    "        self.aInteriorIncidentPhi = np.zeros(self.aInteriorPoints.shape[0])\n",
    "        \n",
    "    # Solve problem as described by object state\n",
    "    def solve(self):\n",
    "        if self.bUseOptimized:\n",
    "            self.tubeProblem = InteriorHelmholtzSolverRAD_C(self.aVertex, self.aEdge, \n",
    "                                                          self.velocity, self.density)\n",
    "        else:\n",
    "            self.tubeProblem = InteriorHelmholtzSolverRAD(self.aVertex, self.aEdge, \n",
    "                                                          self.velocity, self.density)\n",
    "        k = self.tubeProblem.frequencyToWavenumber(self.frequency)\n",
    "        print \"starting solve boundary\"\n",
    "        self.boundarySolution = self.tubeProblem.solveBoundary(k, self.boundaryCondition,\n",
    "                                                               self.boundaryIncidence)\n",
    "        print \"completed boundary solution, starting solve interior\"\n",
    "        self.interiorPhi = self.tubeProblem.solveInterior(self.boundarySolution, \n",
    "                                                          self.aInteriorIncidentPhi, \n",
    "                                                          self.aInteriorPoints)\n",
    "        print \"completed interior solution\"\n",
    "\n",
    "    def showPressureMap(self, t = 0.0):\n",
    "        fig = plt.figure()\n",
    "        plt.plot(self.aInteriorPoints[:,1], \n",
    "                 self.tubeProblem.soundPressure(self.boundarySolution.k, self.interiorPhi, t).real)\n",
    "        plt.show()  \n",
    "\n",
    "    @classmethod\n",
    "    def Cylinder(cls, length, radius, elements_l, elements_r):\n",
    "        nlements = elements_l + 2 * elements_r\n",
    "        # boundary elements are edges\n",
    "        aEdge = np.empty((nlements, 2), dtype=np.int32)\n",
    "        aEdge[:, 0] = range(nlements)\n",
    "        aEdge[:, 1] = range(1, nlements+1)\n",
    "        \n",
    "        aVertex = np.empty((nlements + 1, 2), dtype=np.float32)\n",
    "        # up the r-Axis\n",
    "        aVertex[0:elements_r, 0] = np.linspace(0.0, radius, elements_r, False)\n",
    "        aVertex[0:elements_r, 1] = length\n",
    "        # over to the right along top edge\n",
    "        aVertex[elements_r:elements_r+elements_l, 0] = radius\n",
    "        aVertex[elements_r:elements_r+elements_l, 1] = np.linspace(length, 0.0, elements_l, False)\n",
    "        # back down to x-axis\n",
    "        aVertex[elements_r+elements_l:nlements, 0] = np.linspace(radius, 0.0, elements_r, False)\n",
    "        aVertex[elements_r+elements_l:nlements, 1] = 0.0\n",
    "        \n",
    "        return aVertex, aEdge\n"
   ]
  },
  {
   "cell_type": "code",
   "execution_count": null,
   "metadata": {
    "collapsed": false,
    "scrolled": true
   },
   "outputs": [],
   "source": [
    "tube = ImpedanceTube(1.0, 0.1, impedance = 10-5j)\n",
    "tube.solve()\n",
    "tube.showPressureMap()"
   ]
  },
  {
   "cell_type": "code",
   "execution_count": null,
   "metadata": {
    "collapsed": false
   },
   "outputs": [],
   "source": [
    "def p(x):\n",
    "    q = tube.density * tube.velocity \n",
    "    k = tube.tubeProblem.frequencyToWavenumber(tube.frequency)\n",
    "    return q * tube.velocityAmplitude * (tube.impedance * np.cos(k * (tube.length - x)) \\\n",
    "        - 1j * q * np.sin(k * (tube.length - x))) / (q * np.cos(k * tube.length) - 1j * \\\n",
    "                                                    tube.impedance * np.sin(k * tube.length))\n",
    "xVals = np.linspace(0.0, tube.length, tube.elements_l)\n",
    "yVals = p(xVals).real\n",
    "fig = plt.figure()\n",
    "plt.plot(xVals, yVals)\n",
    "plt.show()\n",
    "            "
   ]
  },
  {
   "cell_type": "code",
   "execution_count": null,
   "metadata": {
    "collapsed": true
   },
   "outputs": [],
   "source": []
  }
 ],
 "metadata": {
  "kernelspec": {
   "display_name": "Python 2",
   "language": "python",
   "name": "python2"
  },
  "language_info": {
   "codemirror_mode": {
    "name": "ipython",
    "version": 2
   },
   "file_extension": ".py",
   "mimetype": "text/x-python",
   "name": "python",
   "nbconvert_exporter": "python",
   "pygments_lexer": "ipython2",
   "version": "2.7.12"
  }
 },
 "nbformat": 4,
 "nbformat_minor": 0
}
