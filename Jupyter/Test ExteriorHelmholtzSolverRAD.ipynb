{
 "cells": [
  {
   "cell_type": "code",
   "execution_count": null,
   "metadata": {
    "collapsed": false
   },
   "outputs": [],
   "source": [
    "import sys\n",
    "sys.path.append('/home/fjargsto/AcousticBEM/Python')\n",
    "\n",
    "import matplotlib.pyplot as plt\n",
    "%matplotlib inline\n",
    "\n",
    "from InteriorHelmholtzSolverRAD import *\n",
    "from ExampleBoundaries import SphereRAD\n",
    "\n",
    "def displayGraph(example, aF, aRatioBEM, aRatioTheo):\n",
    "    plt.title('Radiation Ratio of ' + example + ' Sphere')\n",
    "    lineBEM, = plt.plot(aF, aRatioBEM, 'D', label='BEM')\n",
    "    lineTheo, = plt.plot(aF, aRatioTheo, '--', label='theoretical')\n",
    "    plt.xlabel('frequence [Hz]')\n",
    "    plt.ylabel('radiation ratio')\n",
    "    plt.legend(handles=[lineBEM, lineTheo], loc='lower right')\n",
    "    plt.show()\n",
    "\n",
    "numberOfSamples = 30\n",
    "\n",
    "solver = HelmholtzSolverRAD(*(SphereRAD()))\n",
    "\n",
    "# Test Problem 1 - Pulsating Sphere\n",
    "# Neumann condition with v perpendicular to the surface, and\n",
    "# homogeneous over the full shpere. The the graph plotted also \n",
    "# contains the theoretical/closed-form solution.\n",
    "boundaryCondition = BoundaryCondition(solver.aElement.shape[0])\n",
    "boundaryCondition.alpha.fill(0.0)\n",
    "boundaryCondition.beta.fill(1.0)\n",
    "boundaryCondition.f.fill(1.0)\n",
    "\n",
    "boundaryIncidence = BoundaryIncidence(solver.aElement.shape[0])\n",
    "boundaryIncidence.phi.fill(0.0)\n",
    "boundaryIncidence.v.fill(0.0)\n",
    "\n",
    "aF = np.linspace(10, 1000, numberOfSamples, dtype=np.float32)\n",
    "aNumericalRadiationRatio = np.empty(aF.size, dtype=np.float32)\n",
    "aTheoreticalRadiationRatio = np.empty(aF.size, dtype=np.float32)\n",
    "\n",
    "for i in range(aF.size):\n",
    "    k = frequencyToWavenumber(aF[i])\n",
    "    boundarySolution = solver.solveExteriorBoundary(k,boundaryCondition, boundaryIncidence)\n",
    "    aNumericalRadiationRatio[i] = boundarySolution.radiationRatio()\n",
    "    aTheoreticalRadiationRatio[i] = k**2 / (k**2+1)\n",
    "\n",
    "displayGraph('Pulsating', aF, aNumericalRadiationRatio, aTheoreticalRadiationRatio)\n",
    "\n",
    "# Test Problem 2 - Osillating Sphere\n",
    "# Neumann condition with sphere oscillating along the z-axix. This\n",
    "# results in a v(x) = z, where z is the z component of a given \n",
    "# point x on the shere.\n",
    "for i in range(boundaryCondition.f.size):\n",
    "    boundaryCondition.f[i] = solver.aCenters[i, 1]\n",
    "for i in range(aF.size):\n",
    "    k = frequencyToWavenumber(aF[i])\n",
    "    boundarySolution = solver.solveExteriorBoundary(k,boundaryCondition, boundaryIncidence)\n",
    "    aNumericalRadiationRatio[i] = boundarySolution.radiationRatio()\n",
    "    aTheoreticalRadiationRatio[i] = k**4 / (k**4+4)\n",
    "\n",
    "displayGraph('Oscillating', aF, aNumericalRadiationRatio, aTheoreticalRadiationRatio)\n"
   ]
  },
  {
   "cell_type": "code",
   "execution_count": null,
   "metadata": {
    "collapsed": true
   },
   "outputs": [],
   "source": []
  }
 ],
 "metadata": {
  "kernelspec": {
   "display_name": "Python 2",
   "language": "python",
   "name": "python2"
  },
  "language_info": {
   "codemirror_mode": {
    "name": "ipython",
    "version": 2
   },
   "file_extension": ".py",
   "mimetype": "text/x-python",
   "name": "python",
   "nbconvert_exporter": "python",
   "pygments_lexer": "ipython2",
   "version": "2.7.12"
  }
 },
 "nbformat": 4,
 "nbformat_minor": 0
}
