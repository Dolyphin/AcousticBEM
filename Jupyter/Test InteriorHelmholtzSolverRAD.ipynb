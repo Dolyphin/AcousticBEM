{
 "cells": [
  {
   "cell_type": "code",
   "execution_count": 1,
   "metadata": {
    "collapsed": false,
    "scrolled": true
   },
   "outputs": [
    {
     "name": "stdout",
     "output_type": "stream",
     "text": [
      "c   =  344.0\n",
      "rho =  1.205\n",
      "f   =  40.0\n"
     ]
    }
   ],
   "source": [
    "import sys\n",
    "sys.path.append('/home/fjargsto/Desktop/BEM Kirkup/Python')\n",
    "\n",
    "from InteriorHelmholtzSolver2D import *\n",
    "from InteriorHelmholtzSolverRAD import *\n",
    "\n",
    "c         = 344.0 # speed of sound [m/s]\n",
    "rho       = 1.205 # density of air [kg/m^3]\n",
    "frequency = 40.0 # frequency [Hz]\n",
    "\n",
    "print \"c   = \", c\n",
    "print \"rho = \", rho\n",
    "print \"f   = \", frequency"
   ]
  },
  {
   "cell_type": "code",
   "execution_count": 2,
   "metadata": {
    "collapsed": true
   },
   "outputs": [],
   "source": [
    "aVertex = np.array([[0.000, 1.000], [0.174, 0.985], [0.342, 0.940], [0.500, 0.866],\n",
    "                    [0.643, 0.766], [0.766, 0.643], [0.866, 0.500], [0.940, 0.342],\n",
    "                    [0.985, 0.174], [1.000, 0.000], [0.985,-0.174], [0.940,-0.342],\n",
    "                    [0.866,-0.500], [0.766,-0.643], [0.643,-0.766], [0.500,-0.866],\n",
    "                    [0.342,-0.940], [0.174,-0.985], [0.000,-1.000]], dtype=np.float32)\n",
    "\n",
    "aEdge = np.array([[0, 1],   [1, 2],   [2, 3],   [3, 4],\n",
    "                  [4, 5],   [5, 6],   [6, 7],   [7, 8],\n",
    "                  [8, 9],   [9, 10],  [10, 11], [11, 12],\n",
    "                  [12, 13], [13, 14], [14, 15], [15, 16],\n",
    "                  [16, 17], [17, 18]], dtype=np.int32)\n",
    "\n",
    "interiorPoints = np.array([[0.0000,  0.0000],\n",
    "                           [0.0000,  0.5000],\n",
    "                           [0.0000, -0.5000],\n",
    "                           [0.5000,  0.0000]], dtype=np.float32)\n"
   ]
  },
  {
   "cell_type": "code",
   "execution_count": 3,
   "metadata": {
    "collapsed": false
   },
   "outputs": [
    {
     "ename": "NameError",
     "evalue": "name 'vertices' is not defined",
     "output_type": "error",
     "traceback": [
      "\u001b[0;31m---------------------------------------------------------------------------\u001b[0m",
      "\u001b[0;31mNameError\u001b[0m                                 Traceback (most recent call last)",
      "\u001b[0;32m<ipython-input-3-f71141d1cf01>\u001b[0m in \u001b[0;36m<module>\u001b[0;34m()\u001b[0m\n\u001b[0;32m----> 1\u001b[0;31m \u001b[0mcenters\u001b[0m \u001b[0;34m=\u001b[0m \u001b[0;36m0.5\u001b[0m \u001b[0;34m*\u001b[0m \u001b[0;34m(\u001b[0m\u001b[0mvertices\u001b[0m\u001b[0;34m[\u001b[0m\u001b[0medges\u001b[0m\u001b[0;34m[\u001b[0m\u001b[0;34m:\u001b[0m\u001b[0;34m,\u001b[0m \u001b[0;36m0\u001b[0m\u001b[0;34m]\u001b[0m\u001b[0;34m]\u001b[0m \u001b[0;34m+\u001b[0m \u001b[0mvertices\u001b[0m\u001b[0;34m[\u001b[0m\u001b[0medges\u001b[0m\u001b[0;34m[\u001b[0m\u001b[0;34m:\u001b[0m\u001b[0;34m,\u001b[0m \u001b[0;36m1\u001b[0m\u001b[0;34m]\u001b[0m\u001b[0;34m]\u001b[0m\u001b[0;34m)\u001b[0m\u001b[0;34m\u001b[0m\u001b[0m\n\u001b[0m",
      "\u001b[0;31mNameError\u001b[0m: name 'vertices' is not defined"
     ]
    }
   ],
   "source": [
    "centers = 0.5 * (vertices[edges[:, 0]] + vertices[edges[:, 1]])"
   ]
  },
  {
   "cell_type": "code",
   "execution_count": null,
   "metadata": {
    "collapsed": false
   },
   "outputs": [],
   "source": [
    "# Test Problem 1\n",
    "# Dirichlet boundary condition with phi = sin(k*z)\n",
    "#\n",
    "solver = InteriorHelmholtzSolverRAD(aVertex, aEdge)\n",
    "\n",
    "boundaryCondition = BoundaryCondition(aEdge.shape[0])\n",
    "boundaryCondition.alpha.fill(1.0)\n",
    "boundaryCondition.beta.fill(0.0)\n",
    "boundaryCondition.f\n",
    "\n",
    "k = solver.frequencyToWavenumber(frequency)\n",
    "\n",
    "boundaryCondition.f[:] = np.sin(k * centers[:,1])\n",
    "\n",
    "boundaryIncidence = BoundaryIncidence(aEdge.shape[0])\n",
    "boundaryIncidence.phi.fill(0.0)\n",
    "boundaryIncidence.v.fill(0.0)\n",
    "\n",
    "interiorIncidentPhi = np.zeros(interiorPoints.shape[0])\n",
    "\n",
    "boundarySolution = solver.solveBoundary(k, boundaryCondition, boundaryIncidence)\n",
    "interiorPhi = solver.solveInterior(boundarySolution, interiorIncidentPhi, interiorPoints)\n",
    "print \"Test Problem 1\"\n",
    "print \"==============\\n\"\n",
    "print boundarySolution\n",
    "printInteriorSolution(boundarySolution, interiorPhi)\n",
    "\n",
    "\n",
    "# Test Problem 2\n",
    "# von Neumann boundary condition such that phi = sin(k/sqrt(2) * x) * sin(k/sqrt(2) * y)\n",
    "# Differentiate with respect to x and y to obtain outward normal\n",
    "boundaryCondition.alpha.fill(0.0)\n",
    "boundaryCondition.beta.fill(1.0)\n",
    "for i in range(centers.shape[0]):\n",
    "    z = centers[i, 1]\n",
    "    n = solver.Normal2D(aVertex[aEdge[i,0],:], aVertex[aEdge[i,1],:])\n",
    "    boundaryCondition.f[i] = k * np.cos(k*z) * n[1]\n",
    "    \n",
    "boundarySolution = solver.solveBoundary(k, boundaryCondition, boundaryIncidence)\n",
    "interiorPhi = solver.solveInterior(boundarySolution, interiorIncidentPhi, interiorPoints)\n",
    "print \"\\n\\nTest Problem 2\"\n",
    "print \"==============\\n\"\n",
    "print boundarySolution\n",
    "printInteriorSolution(boundarySolution, interiorPhi)\n",
    "\n",
    "   \n",
    "# Test Problem 3\n",
    "# Dirichlet boundary condition, such that phi = sin(k/ sqrt(2) * x) * sin(k/sqrt(2) * y)\n",
    "# Differentiate with respect to x and y to obtain outward normal\n",
    "boundaryCondition.alpha.fill(1.0)\n",
    "boundaryCondition.beta.fill(0.0)\n",
    "\n",
    "zp = 0.25\n",
    "for i in range(centers.shape[0]):\n",
    "    r = centers[i, 0]\n",
    "    z = centers[i, 1]\n",
    "    rpq = np.sqrt(0j + r**2 + (z - zp))\n",
    "    boundaryCondition.f[i] = np.exp(1j * k * rpq) / (4.0 * np.pi * rpq)\n",
    "    boundaryIncidence.phi[i] = np.exp(1j * k * rpq) / (4.0 * np.pi * rpq)\n",
    "    n = solver.Normal2D(aVertex[aEdge[i,0],:], aVertex[aEdge[i,1],:])\n",
    "    drbdn = (r * n[0] + (z - zp) * n[1]) / rpq\n",
    "    boundaryIncidence.v[i] = drbdn * np.exp(1j * k * rpq) * (1j * k * rpq - 1.0) \\\n",
    "        / (4.0 * np.pi * rpq**2)\n",
    "    \n",
    "for i in range(interiorPoints.shape[0]):\n",
    "    r = interiorPoints[i, 0]\n",
    "    z = interiorPoints[i, 1]\n",
    "    rpq = np.sqrt(0j + r**2 + (zp - z)*(zp - z))\n",
    "    interiorIncidentPhi[i] = np.exp(1j * k * rpq) / (4.0 * np.pi * rpq)\n",
    "       \n",
    "boundarySolution = solver.solveBoundary(k, boundaryCondition, boundaryIncidence)\n",
    "interiorPhi = solver.solveInterior(boundarySolution, interiorIncidentPhi, interiorPoints)\n",
    "print \"\\n\\nTest Problem 3\"\n",
    "print \"==============\\n\"\n",
    "print boundarySolution\n",
    "printInteriorSolution(boundarySolution, interiorPhi)\n",
    " "
   ]
  },
  {
   "cell_type": "code",
   "execution_count": null,
   "metadata": {
    "collapsed": true
   },
   "outputs": [],
   "source": []
  }
 ],
 "metadata": {
  "kernelspec": {
   "display_name": "Python 2",
   "language": "python",
   "name": "python2"
  },
  "language_info": {
   "codemirror_mode": {
    "name": "ipython",
    "version": 2
   },
   "file_extension": ".py",
   "mimetype": "text/x-python",
   "name": "python",
   "nbconvert_exporter": "python",
   "pygments_lexer": "ipython2",
   "version": "2.7.12"
  }
 },
 "nbformat": 4,
 "nbformat_minor": 0
}
